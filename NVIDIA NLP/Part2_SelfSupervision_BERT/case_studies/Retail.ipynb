{
 "cells": [
  {
   "cell_type": "markdown",
   "metadata": {},
   "source": [
    "<a href=\"https://www.nvidia.com/dli\"> <img src=\"../images/DLI_Header.png\" alt=\"Header\" style=\"width: 400px;\"/> </a>"
   ]
  },
  {
   "cell_type": "markdown",
   "metadata": {},
   "source": [
    "# Retail Case Studies\n",
    "* [Case Study: Walmart](#Case-Study:-Walmart)\n",
    "* [Case Study: Dominos](#Case-Study:-Dominos) "
   ]
  },
  {
   "cell_type": "markdown",
   "metadata": {},
   "source": [
    "# Case Study: Walmart\n",
    "Walmart uses NLP solutions in multiple areas of its business, from improving the customer experience to adding tools to aid employees in the store. \n",
    "\n",
    "## Personalization and Search\n",
    "Using NLP in e-commerce to better understand customer searches and item descriptions/attributes allows Walmart’s personalization team to provide better recommendations to customers.  This results in higher conversion rates, cross-sell opportunities, and a better customer experience. \n",
    "\n",
    "NLP is used to understand language in search queries that are inexact like '60” Plasma TV' or '60 inch plasma television'.  NLP is also used in conjunction with CV to associate like products for recommendations in visual searches.\n",
    "\n",
    "<img src=\"../images/Walmart_chairs.png\">\n",
    "          \n",
    "Combining CV and NLP algorithms to take a picture of a product along with its descriptions, and classifying these provides flexibility for customers.  Users can search using visual images, while the system provides an additional understanding of the relationships between items. For example, a sofa and a chair may come from two separate vendors and have different names, but may appear to be similar visually and have similar textual descriptions. CV algorithms and NLP algorithms create embeddings.  This information is then used to provide better search results and recommendations.\n",
    " \n",
    "Additionally, Walmart has millions of unique products from hundreds of thousands of unique vendors. The images or text descriptions for these products are updated frequently, often 100,000s of updates per day. Walmart would not be able to re-classify these products into categories and understand relationships between products without CV/NLP.\n",
    " \n",
    "## Grocery App\n",
    "Speech functionality on the [Walmart grocery application](https://corporate.walmart.com/newsroom/2019/04/02/want-walmart-to-help-you-grocery-shop-with-our-new-voice-capabilities-just-say-the-word) uses ASR and NLP to help customers put items in their basket. The app understands the customer's context.  For example, if a customer says “add milk to my cart,” the app will make sure to add the specific milk the customer buys regularly. Instead of saying “1 gallon of 1% Great Value organic milk,” they’ll simply say one word: “milk.”\n",
    "\n",
    "## \"Ask Sam\" Employee Assistant\n",
    "Sam’s Club recently introduced a mobile application called “Ask Sam”, a voice assistant that helps associates find the answers they need to do their job and help members. Thanks to this app, associates can stay on the sales floor, instead of going to a desktop computer in a backroom, to access company documents and product information.\n",
    "To develop this game-changing app, an exceptional engineering team was needed. “Ask Sam” was built in just five short months by a group of 11 engineers. Read [this article](https://corporate.samsclub.com/article/the-story-behind-ask-sam-the-associate-app-with-all-the-answers) for a Q&A with Craig Robinson, who leads the “Ask Sam” development team, to learn more about the app and how they are gathering feedback from associates to make it even better.\n"
   ]
  },
  {
   "cell_type": "markdown",
   "metadata": {},
   "source": [
    "# Case Study: Dominos\n",
    "Pizza has a domain-specific language.  “Supreme”, “Meat Lovers”, \"Chicago\", \"New York\", \"Sicilian\", \"Hawaiian\", etc. are all words that mean one thing in a general language context, but an entirely different thing in the pizza world. Additionally, words that sound similar like “potato” and “tomato” often make no sense – you wouldn’t get a pizza with extra “potato” sauce, so finetuning these ASR/NLP models yields additional accuracy.\n",
    " \n",
    "The ability to use NLP for customer orders over the phone enables Domino’s to scale their workforce; employees are able to focus on more important tasks like pizza quality and delivery instead of mundane tasks like taking an order.\n",
    " \n",
    "Zack Fragoso, Manager of Data Science at Domino’s discusses their ASR use case in [this blog](https://blogs.nvidia.com/blog/2020/01/13/dominos-pizza-ai/):\n",
    " \n",
    "<blockquote><p><i>Model latency is extremely important, so we are building out an inference stack using T4s to host our AI models in production. We’ve already seen pretty extreme improvements with latency down from 50 milliseconds to sub-10ms.</i></p></blockquote>"
   ]
  },
  {
   "cell_type": "markdown",
   "metadata": {},
   "source": [
    "<a href=\"https://www.nvidia.com/dli\"> <img src=\"../images/DLI_Header.png\" alt=\"Header\" style=\"width: 400px;\"/> </a>"
   ]
  }
 ],
 "metadata": {
  "kernelspec": {
   "display_name": "Python 3",
   "language": "python",
   "name": "python3"
  },
  "language_info": {
   "codemirror_mode": {
    "name": "ipython",
    "version": 3
   },
   "file_extension": ".py",
   "mimetype": "text/x-python",
   "name": "python",
   "nbconvert_exporter": "python",
   "pygments_lexer": "ipython3",
   "version": "3.8.3"
  },
  "pycharm": {
   "stem_cell": {
    "cell_type": "raw",
    "metadata": {
     "collapsed": false
    },
    "source": []
   }
  }
 },
 "nbformat": 4,
 "nbformat_minor": 4
}
