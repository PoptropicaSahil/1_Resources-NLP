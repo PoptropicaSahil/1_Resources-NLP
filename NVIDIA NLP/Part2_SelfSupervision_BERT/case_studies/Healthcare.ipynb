{
 "cells": [
  {
   "cell_type": "markdown",
   "metadata": {},
   "source": [
    "<a href=\"https://www.nvidia.com/dli\"> <img src=\"../images/DLI_Header.png\" alt=\"Header\" style=\"width: 400px;\"/> </a>"
   ]
  },
  {
   "cell_type": "markdown",
   "metadata": {},
   "source": [
    "# Healthcare Case Studies\n",
    "* [Case Study: Medical Coding Startup](#Case-Study:-Medical-Coding-Startup)\n",
    "* [Case Study: UnitedHealth Group ](#Case-Study:-UnitedHealth-Group ) "
   ]
  },
  {
   "cell_type": "markdown",
   "metadata": {},
   "source": [
    "# Case Study: Medical Coding Startup\n",
    "Medical coding is the process of turning a clinician’s notes into a set of alphanumeric codes representing every diagnosis and procedure. San Francisco-based Fathom is developing deep learning tools to automate the painstaking medical coding process while increasing accuracy. The startup’s tools can help address the shortage of trained clinical coders, improve the speed and precision of billing, and allow human coders to focus on complex cases and follow-up queries.\n",
    "\n",
    "<img src=\"../images/med_coding.png\">\n",
    "\n",
    "## Deciphering the Doctor\n",
    "At any doctor’s appointment, emergency room visit, or surgical procedure, healthcare providers type up notes describing the interaction. While there are some standardized formats, these medical records differ by hospital, by type of appointment or procedure, and by whether the note is written during the patient interaction or after.\n",
    "\n",
    "Medical coders make sense of this unstructured text, categorizing every test, treatment, and procedure into a list of codes. Once coded, a healthcare provider’s billing department turns the reports into an invoice to collect payments from insurance providers and patients.\n",
    "\n",
    "## Coding an AI that Codes\n",
    "As a machine learning problem, medical coding shares elements of two kinds of tasks: multilabel classification and sequence-to-sequence NLP. An effective AI must understand the text in a doctor’s note and accurately tag it with a list of diagnoses and procedures organized in the right order for billing.\n",
    "\n",
    "Fathom is tackling this challenge, aided by tools such as NVIDIA’s GPU-optimized version of BERT, a leading natural language understanding model. The team uses the TensorFlow deep learning framework and relies on the mixed-precision training provided by Tensor Cores to accelerate the large-scale processing of medical documents that vary widely in size.\n",
    "\n",
    "Using NVIDIA GPUs for inference allows Fathom to easily scale up to process upwards of millions of healthcare encounters per hour.\n",
    "\n",
    "Read more about it in [this blog](https://blogs.nvidia.com/blog/2019/09/12/fathom-ai-medical-coding/)"
   ]
  },
  {
   "cell_type": "markdown",
   "metadata": {},
   "source": [
    "# Case Study: UnitedHealth Group \n",
    "More than a million people dial UnitedHealth Group each day. As with any large organization, callers are greeted by an automatic voice response system — a phone tree interface with prompts like “Press 1 to reach the emergency department” or “Press 6 for radiology.” By implementing AI in its call system, UnitedHealth Group can use natural language processing models to understand what callers are looking for and answer automatically, or route them to the right department or service representative.\n",
    "\n",
    "According to Dima Rekesh, senior distinguished engineer, the key challenge for an AI to be usable is getting error rates low enough. “When you develop a model, you need to cross a threshold of accuracy to the point where you can trust it — to the point where it’s a pleasant experience for someone, whether it’s a call center representative or a medical professional looking at a model’s predictions.”\n",
    "\n",
    "Rekesh is working on developing neural networks that can accomplish these tasks, with the goals of reducing call length and connecting patients and customers to answers more quickly. To do so, he’s using OpenSeq2Seq, an open-source toolkit for NLP and speech recognition developed by NVIDIA researchers.\n",
    "\n",
    "“In NLP, deep learning is the only option,” he said. “Other solutions just aren’t accurate enough.”\n",
    "\n",
    "Deep learning models can also be used to streamline the process of authenticating patients’ identities on the call. For customer representatives, an AI-powered interface can help them during the call by pulling up the patient’s records or providing recommendations on the agent’s computer screens.\n",
    "\n",
    "Read more about it in [this blog](https://blogs.nvidia.com/blog/2019/04/17/unitedhealth-deep-learning-healthcare-services/)."
   ]
  },
  {
   "cell_type": "markdown",
   "metadata": {},
   "source": [
    "<a href=\"https://www.nvidia.com/dli\"> <img src=\"../images/DLI_Header.png\" alt=\"Header\" style=\"width: 400px;\"/> </a>"
   ]
  }
 ],
 "metadata": {
  "kernelspec": {
   "display_name": "Python 3",
   "language": "python",
   "name": "python3"
  },
  "language_info": {
   "codemirror_mode": {
    "name": "ipython",
    "version": 3
   },
   "file_extension": ".py",
   "mimetype": "text/x-python",
   "name": "python",
   "nbconvert_exporter": "python",
   "pygments_lexer": "ipython3",
   "version": "3.8.3"
  },
  "pycharm": {
   "stem_cell": {
    "cell_type": "raw",
    "metadata": {
     "collapsed": false
    },
    "source": []
   }
  }
 },
 "nbformat": 4,
 "nbformat_minor": 4
}
