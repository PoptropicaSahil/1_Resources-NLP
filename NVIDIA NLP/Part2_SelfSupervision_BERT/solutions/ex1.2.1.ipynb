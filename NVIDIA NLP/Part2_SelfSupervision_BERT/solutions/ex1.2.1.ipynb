{
 "cells": [
  {
   "cell_type": "code",
   "execution_count": null,
   "id": "5a6794d9-546b-4c1c-bc17-cdcd9e42306e",
   "metadata": {},
   "outputs": [],
   "source": [
    "# Change the FIXME lines to view the test set.\n",
    "\n",
    "test_df =  pd.read_csv(TC_DATA_DIR + 'test.tsv', sep='\\t')\n",
    "test_df.head()"
   ]
  }
 ],
 "metadata": {
  "kernelspec": {
   "display_name": "Python 3",
   "language": "python",
   "name": "python3"
  },
  "language_info": {
   "codemirror_mode": {
    "name": "ipython",
    "version": 3
   },
   "file_extension": ".py",
   "mimetype": "text/x-python",
   "name": "python",
   "nbconvert_exporter": "python",
   "pygments_lexer": "ipython3",
   "version": "3.8.8"
  }
 },
 "nbformat": 4,
 "nbformat_minor": 5
}
