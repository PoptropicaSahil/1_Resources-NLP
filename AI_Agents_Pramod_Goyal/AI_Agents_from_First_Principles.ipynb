{
 "cells": [
  {
   "cell_type": "markdown",
   "metadata": {},
   "source": [
    "# AI Agents from First Principles\n",
    "> Following along Pramod Goyal's excellent blog [here](https://goyalpramod.github.io/blogs/AI_agents_from_first_principles/). I'll be using OpenRouter for API calls. This file should serve as a decent mostly-code reference. "
   ]
  },
  {
   "cell_type": "markdown",
   "metadata": {},
   "source": [
    "## Tools\n",
    "This has a needlessly complex name - **tools are just functions.**\n",
    "\n",
    "Yes, that’s it - they are functions with defined inputs and outputs. These functions are provided to an LLM as a schema, and the model extracts input values from user queries to call these functions.\n",
    "\n",
    "Here's a sample tool"
   ]
  },
  {
   "cell_type": "code",
   "execution_count": 1,
   "metadata": {},
   "outputs": [],
   "source": [
    "def get_weather(city: str, date: str | None = None) -> dict[str, int | str]:\n",
    "    \"\"\"\n",
    "    Gets weather information for a specific city and date.#-\n",
    "\n",
    "    Args:\n",
    "        city: Name of the city#-\n",
    "        date: Date in YYYY-MM-DD format, defaults to today#-\n",
    "\n",
    "    Returns:\n",
    "        dict: Weather information including temperature and conditions#-\n",
    "    \"\"\"\n",
    "    # Implementation here\n",
    "    return {\"temperature\": 25, \"conditions\": \"sunny\", \"humidity\": 60}\n"
   ]
  },
  {
   "cell_type": "markdown",
   "metadata": {},
   "source": [
    "> `Callable[..., ...]` is not allowed it seems, you have to use `Callable[..., Any]`\n",
    "\n",
    "In many libraries you will find them using `@tool` on top of functions. This is **just a Python decorator that adds metadata.** Let’s create a simple one:"
   ]
  },
  {
   "cell_type": "code",
   "execution_count": 2,
   "metadata": {},
   "outputs": [
    {
     "name": "stdout",
     "output_type": "stream",
     "text": [
      "Is tool: True\n",
      "Description: Calculate area of a rectangle.\n",
      "Parameters: OrderedDict([('length', <Parameter \"length: float\">), ('width', <Parameter \"width: float\">)])\n",
      "Result: 15\n"
     ]
    }
   ],
   "source": [
    "from functools import wraps\n",
    "from typing import Callable, Any, Dict\n",
    "import inspect\n",
    "\n",
    "\n",
    "# This is the decorator that we define\n",
    "def tool(func: Callable[..., Any]) -> Callable[..., Any]:\n",
    "    \"\"\"\n",
    "    Decorator that converts a function into an LLM tool by adding metadata.\n",
    "\n",
    "    Args:\n",
    "        func Callable[..., Any]: Function to convert into a tool\n",
    "\n",
    "    Returns:\n",
    "        Callable[..., Any]: Decorated function with metadata\n",
    "    \"\"\"\n",
    "\n",
    "    @wraps(func)\n",
    "    def wrapper(*args: Any, **kwargs: Any) -> Any:\n",
    "        return func(*args, **kwargs)\n",
    "\n",
    "    # Add function metadata\n",
    "    wrapper.is_tool: bool = True  # type: ignore\n",
    "    wrapper.description: str = func.__doc__ if func.__doc__ else \"\"  # type: ignore\n",
    "    wrapper.parameters: inspect.Signature = inspect.signature(func).parameters  # type: ignore\n",
    "\n",
    "    return wrapper\n",
    "\n",
    "\n",
    "# Usage example\n",
    "@tool\n",
    "def calculate_area(length: float, width: float) -> float:\n",
    "    \"\"\"Calculate area of a rectangle.\"\"\"\n",
    "    return length * width\n",
    "\n",
    "\n",
    "# Let's see what the decorator added\n",
    "print(\n",
    "    \"Is tool:\",\n",
    "    calculate_area.is_tool,  # type: ignore\n",
    ")  # Is tool: True\n",
    "\n",
    "print(\n",
    "    \"Description:\",\n",
    "    calculate_area.description,  # type: ignore\n",
    ")  # Description: Calculate area of a rectangle.\n",
    "\n",
    "print(\n",
    "    \"Parameters:\",\n",
    "    calculate_area.parameters,  # type: ignore\n",
    ")  # Parameters: <Signature (length: float, width: float) -> float>\n",
    "print(\"Result:\", calculate_area(5, 3))  # result: 15\n"
   ]
  },
  {
   "cell_type": "markdown",
   "metadata": {},
   "source": [
    "The **decorator doesn’t modify how the function works** - it simply passes through all calls to the original function while **adding extra attributes**. These attributes (`is_tool`, `description`, `parameters`) help the LLM understand:\n",
    "\n",
    "- That this function is available as a tool\n",
    "- What the function does (from the docstring)\n",
    "- What parameters it expects (from the signature)\n",
    "\n",
    "This metadata is then used to create the function schema that we send to the LLM.\n",
    "\n"
   ]
  },
  {
   "cell_type": "markdown",
   "metadata": {},
   "source": [
    "## Memory\n",
    "\n",
    "Memory in LLM agents can be handled in two ways - through context window or external databases. Here is a basic example -\n",
    "\n",
    "```python\n",
    "import datetime\n",
    "\n",
    "class AgentMemory:\n",
    "    def __init__(self):\n",
    "        \"\"\"Initialize memory storage\"\"\"\n",
    "        self.conversations = []  # Short-term memory\n",
    "        self.db = Database()   # Long-term memory\n",
    "\n",
    "    def add_to_memory(self, message: str, role: str):\n",
    "        \"\"\"Add a new message to memory\"\"\"\n",
    "        # Keep last N messages in context\n",
    "        self.conversations.append(\n",
    "            {\"role\": role, \"content\": message, \"timestamp\": datetime.now()}\n",
    "        )\n",
    "\n",
    "        # Store in long-term memory\n",
    "        self.db.store(message, role)\n",
    "\n",
    "    def get_relevant_context(self, query: str) -> List[str]:\n",
    "        \"\"\"Retrieve relevant information from long-term memory\"\"\"\n",
    "        return self.db.search(query)\n",
    "\n",
    "    def get_context_window(self) -> List[dict]:\n",
    "        \"\"\"Get recent conversations for context window\"\"\"\n",
    "        return self.conversations[-10:]  # Last 10 messages\n",
    "```"
   ]
  },
  {
   "cell_type": "markdown",
   "metadata": {},
   "source": [
    "**Here’s a basic RAG implementation:**\n",
    "\n",
    "```python\n",
    "from sentence_transformers import SentenceTransformer \n",
    "from qdrant_client import QdrantClient \n",
    "from typing import List, Dict\n",
    "\n",
    "class RAGSystem:\n",
    "    def __init__(self):\n",
    "        # Initialize embedding model\n",
    "        self.embedder = SentenceTransformer('BAAI/bge-large-en-v1.5')\n",
    "        \n",
    "        # Initialize vector store\n",
    "        self.qdrant: QdrantClient = QdrantClient(\"localhost\", port=6333)\n",
    "        \n",
    "    def add_documents(self, documents: List[str]):\n",
    "        # Create embeddings\n",
    "        embeddings = self.embedder.encode(documents)\n",
    "        \n",
    "        # Store in vector DB\n",
    "        self.qdrant.upload_collection(\n",
    "            collection_name=\"knowledge_base\",\n",
    "            vectors=embeddings,\n",
    "            payload=documents\n",
    "        )\n",
    "    \n",
    "    def retrieve(self, query: str, k: int = 3) -> List[str]:\n",
    "        # Get query embedding\n",
    "        query_embedding = self.embedder.encode(query)\n",
    "        \n",
    "        # Search similar documents\n",
    "        results = self.qdrant.search(\n",
    "            collection_name=\"knowledge_base\",\n",
    "            query_vector=query_embedding,\n",
    "            limit=k\n",
    "        )\n",
    "        return [hit.payload for hit in results]\n",
    "```\n"
   ]
  },
  {
   "cell_type": "markdown",
   "metadata": {},
   "source": [
    "\n",
    "## Document Processing\n"
   ]
  },
  {
   "cell_type": "code",
   "execution_count": 3,
   "metadata": {},
   "outputs": [],
   "source": [
    "from typing import List\n",
    "import re\n",
    "\n",
    "\n",
    "def chunk_text(text: str, chunk_size: int = 5) -> List[str]:\n",
    "    \"\"\"\n",
    "    Split text into smaller chunks while preserving sentence boundaries\n",
    "    \"\"\"\n",
    "    sentences = text.split(\". \")\n",
    "    chunks: List[str] = []\n",
    "    current_chunk = []\n",
    "    current_length = 0\n",
    "\n",
    "    for sentence in sentences:\n",
    "        if current_length + len(sentence) > chunk_size:\n",
    "            # if new is bigger, then add existing to chunks. Then make new as current\n",
    "            chunks.append(\" \".join(current_chunk))\n",
    "            current_chunk = [sentence]\n",
    "            current_length = len(sentence)\n",
    "        else:\n",
    "            current_chunk.append(sentence)\n",
    "            current_length += len(sentence)\n",
    "\n",
    "    return chunks\n",
    "\n",
    "\n",
    "def clean_text(text: str) -> str:\n",
    "    \"\"\"\n",
    "    Standardize text format and remove noise\n",
    "    \"\"\"\n",
    "    # Remove extra whitespace\n",
    "    text = \" \".join(text.split())\n",
    "    # Remove special characters\n",
    "    text = re.sub(r\"[^\\w\\s.,!?]\", \"\", text)\n",
    "    return text\n"
   ]
  },
  {
   "cell_type": "code",
   "execution_count": 4,
   "metadata": {},
   "outputs": [
    {
     "data": {
      "text/plain": [
       "['',\n",
       " 'This is a long sentence',\n",
       " 'It should be split into smaller chunks',\n",
       " 'My already existing persona needs slight modification such that there should me higher interest in tyres and robotics']"
      ]
     },
     "execution_count": 4,
     "metadata": {},
     "output_type": "execute_result"
    }
   ],
   "source": [
    "chunk_text(\n",
    "    \"This is a long sentence. It should be split into smaller chunks. My already existing persona needs slight modification such that there should me higher interest in tyres and robotics. \"\n",
    ")"
   ]
  },
  {
   "cell_type": "markdown",
   "metadata": {},
   "source": []
  },
  {
   "cell_type": "markdown",
   "metadata": {},
   "source": [
    "## Best Practices for AI Agents\n",
    "\n",
    "### Core Guidelines\n",
    "As pointed out in the [smolagents guide](https://huggingface.co/docs/smolagents/tutorials/building_good_agents), minimize LLM calls by:\n",
    "\n",
    "- Combining related tools into single functions\n",
    "- Using deterministic logic over LLM-based decisions\n",
    "- Caching responses for similar queries\n",
    "\n",
    "\n",
    "```python\n",
    "# Bad: Multiple LLM calls\n",
    "def process_order(order_details):\n",
    "    # First LLM call to validate\n",
    "    validated = llm.validate(order_details)\n",
    "    if not validated:\n",
    "        return \"Invalid order\"\n",
    "        \n",
    "    # Second LLM call to format\n",
    "    formatted = llm.format(order_details)\n",
    "    \n",
    "    # Third LLM call to process\n",
    "    return llm.process(formatted)\n",
    "\n",
    "# Good: Single LLM call\n",
    "def process_order(order_details):\n",
    "    # Validate with regular code\n",
    "    if not is_valid_order(order_details):\n",
    "        return \"Invalid order\"\n",
    "        \n",
    "    # Format with template\n",
    "    formatted = ORDER_TEMPLATE.format(**order_details)\n",
    "    \n",
    "    # Single LLM call\n",
    "    return llm.process(formatted)\n",
    "\n",
    "```\n"
   ]
  },
  {
   "cell_type": "markdown",
   "metadata": {},
   "source": [
    "### Common Pitfalls\n",
    "\n",
    "**Over-relying on LLMs**\n",
    "\n",
    "Bad:\n",
    "\n",
    "```python\n",
    "def validate_email(email):\n",
    "    response = llm.call(\"Is this a valid email: \" + email)\n",
    "    return \"valid\" in response.lower()\n",
    "\n",
    "```\n",
    "\n",
    "\n",
    "Good:\n",
    "\n",
    "```python\n",
    "import re\n",
    "\n",
    "def validate_email(email):\n",
    "    pattern = r'^[\\w\\.-]+@[\\w\\.-]+\\.\\w+\n",
    "```\n",
    "---"
   ]
  },
  {
   "cell_type": "markdown",
   "metadata": {},
   "source": [
    "**Prompt Bloat**\n",
    "\n",
    "Bad:\n",
    "\n",
    "```python\n",
    "system_message = \"\"\"You are an AI assistant that helps with tasks.\n",
    "You should be helpful, concise, and clear.\n",
    "Always format responses properly.\n",
    "Remember to be polite.\n",
    "Double check your answers.\n",
    "Consider edge cases.\n",
    "...50 more lines of instructions...\"\"\"\n",
    "\n",
    "```\n",
    "\n",
    "Good:\n",
    "\n",
    "```python\n",
    "system_message = \"\"\"You are a task-focused AI assistant.\n",
    "Format: Generate concise, actionable responses.\n",
    "Priority: Accuracy and clarity.\"\"\"\n",
    "\n",
    "```\n",
    "---"
   ]
  },
  {
   "cell_type": "markdown",
   "metadata": {},
   "source": [
    "**Tool Proliferation**\n",
    "\n",
    "Instead of:\n",
    "\n",
    "```py\n",
    "tools = [\n",
    "    fetch_weather,\n",
    "    fetch_temperature,\n",
    "    fetch_humidity,\n",
    "    fetch_wind_speed,\n",
    "    fetch_precipitation\n",
    "]\n",
    "\n",
    "```\n",
    "\n",
    "\n",
    "Do this:\n",
    "\n",
    "```py\n",
    "tools = [\n",
    "    fetch_weather_data  # Returns complete weather info in one call\n",
    "]\n",
    "\n",
    "```\n",
    "---\n"
   ]
  },
  {
   "cell_type": "markdown",
   "metadata": {},
   "source": [
    "**Testing Framework**\n",
    "\n",
    "```py\n",
    "class AgentTester:\n",
    "    def __init__(self, agent):\n",
    "        self.agent = agent\n",
    "        self.metrics = {\n",
    "            'success_rate': 0,\n",
    "            'response_time': [],\n",
    "            'token_usage': [],\n",
    "            'error_rate': 0\n",
    "        }\n",
    "    \n",
    "    def test_case(self, input_query, expected_output):\n",
    "        start_time = time.time()\n",
    "        try:\n",
    "            response = self.agent.run(input_query)\n",
    "            success = self.validate_response(response, expected_output)\n",
    "            self.metrics['success_rate'] += success\n",
    "            \n",
    "        except Exception as e:\n",
    "            self.metrics['error_rate'] += 1\n",
    "            \n",
    "        self.metrics['response_time'].append(time.time() - start_time)\n",
    "        \n",
    "    def validate_response(self, response, expected):\n",
    "        # Implement validation logic\n",
    "        pass\n",
    "        \n",
    "    def get_metrics_report(self):\n",
    "        return {\n",
    "            'avg_response_time': np.mean(self.metrics['response_time']),\n",
    "            'success_rate': self.metrics['success_rate'],\n",
    "            'error_rate': self.metrics['error_rate']\n",
    "        }\n",
    "\n",
    "```\n"
   ]
  },
  {
   "cell_type": "markdown",
   "metadata": {},
   "source": [
    "# Building an Agent\n",
    "<img src=\"readme-images/1.png\" alt=\"drawing\" width=\"1000\"/>"
   ]
  },
  {
   "cell_type": "markdown",
   "metadata": {},
   "source": [
    "### Creating OpenAI Client"
   ]
  },
  {
   "cell_type": "code",
   "execution_count": 5,
   "metadata": {},
   "outputs": [
    {
     "name": "stdout",
     "output_type": "stream",
     "text": [
      " Don’t worry, you don’t need to! I’m Gemma, a large language model created by the Gemma team at Google DeepMind.\n"
     ]
    }
   ],
   "source": [
    "from openai import OpenAI\n",
    "import os\n",
    "from dotenv import load_dotenv\n",
    "\n",
    "load_dotenv()\n",
    "\n",
    "openrouter_api_key = os.getenv(\"OPENROUTER_API_KEY\")\n",
    "\n",
    "client = OpenAI(\n",
    "    base_url=\"https://openrouter.ai/api/v1\",\n",
    "    api_key=openrouter_api_key,\n",
    ")\n",
    "\n",
    "completion = client.chat.completions.create(\n",
    "    model=\"google/gemma-3-1b-it:free\",\n",
    "    messages=[\n",
    "        {\n",
    "            \"role\": \"user\",\n",
    "            \"content\": [\n",
    "                {\"type\": \"text\", \"text\": \"What is your name?\"},\n",
    "            ],\n",
    "        }\n",
    "    ],\n",
    ")\n",
    "print(completion.choices[0].message.content)"
   ]
  },
  {
   "cell_type": "code",
   "execution_count": 6,
   "metadata": {},
   "outputs": [
    {
     "data": {
      "text/plain": [
       "openai.types.chat.chat_completion.ChatCompletion"
      ]
     },
     "execution_count": 6,
     "metadata": {},
     "output_type": "execute_result"
    }
   ],
   "source": [
    "type(completion)"
   ]
  },
  {
   "cell_type": "markdown",
   "metadata": {},
   "source": [
    "### LLM call\n",
    "\n",
    "> I tried to use the free `\"google/gemma-3-1b-it:free\"`, but it does not have tool calling abilities it seems. `openai/gpt-3.5-turbo-0613` does not support tool calling as well. `o3-mini` and `4o` models seem to perform the same"
   ]
  },
  {
   "cell_type": "code",
   "execution_count": null,
   "metadata": {},
   "outputs": [],
   "source": []
  },
  {
   "cell_type": "code",
   "execution_count": 7,
   "metadata": {},
   "outputs": [],
   "source": [
    "from typing import Optional\n",
    "from openai.types.chat.chat_completion import ChatCompletion\n",
    "from openai.types.chat.chat_completion_message import ChatCompletionMessage\n",
    "\n",
    "\n",
    "def run_llm(\n",
    "    content: Optional[str] = None,\n",
    "    messages: Optional[List[str]] = [],\n",
    "    # tool_schemas: Optional[List[str]] = [],#-\n",
    "    tool_schemas: Optional[List[Dict[str, Any]]] = [],\n",
    "    system_message: str = \"You are a helpful assistant.\",\n",
    ") -> List[ChatCompletionMessage]:\n",
    "    # Build base request parameters\n",
    "    request_params: Dict[str, Any] = {\n",
    "        \"model\": \"openai/o3-mini\",  # \"openai/gpt-4o-2024-11-20\",  # openai/gpt-3.5-turbo-0613\", # ,\n",
    "        \"messages\": [\n",
    "            {\"role\": \"system\", \"content\": system_message},\n",
    "            {\"role\": \"user\", \"content\": content},\n",
    "        ]\n",
    "        + messages,  # type: ignore\n",
    "    }\n",
    "\n",
    "    # Only add tools parameter if tool_schemas is provided and non-empty\n",
    "    if tool_schemas:\n",
    "        request_params[\"tools\"] = tool_schemas\n",
    "\n",
    "    # Make the API call with conditional parameters\n",
    "    completion: ChatCompletion = client.chat.completions.create(**request_params)  # type: ignore\n",
    "\n",
    "    response: Dict[str, Any] = completion.choices[0].message  # type: ignore\n",
    "    messages.append(response)  # type: ignore\n",
    "\n",
    "    return messages\n",
    "\n",
    "\n",
    "# {\"conversationId\":\"cf746cdd-b8fc-498a-b3e2-fd84a89c4cbf\",\"source\":\"instruct\"}\n"
   ]
  },
  {
   "cell_type": "markdown",
   "metadata": {},
   "source": [
    "\n",
    "Let’s give it the same prompt that we made earlier and see how it works.\n"
   ]
  },
  {
   "cell_type": "code",
   "execution_count": 8,
   "metadata": {},
   "outputs": [
    {
     "data": {
      "text/plain": [
       "[ChatCompletionMessage(content='[42,2,13]', role='assistant', function_call=None, tool_calls=None, refusal=None)]"
      ]
     },
     "execution_count": 8,
     "metadata": {},
     "output_type": "execute_result"
    }
   ],
   "source": [
    "run_llm(\n",
    "    content=\"\"\"[\"apple\", \"pie\", 42, 2, 13]\"\"\",\n",
    "    system_message=\"\"\"\n",
    "    You are an expert classifier, which classifies strings and integers.\\\n",
    "    Given a list of numbers and words, only return the numbers as a list.\\\n",
    "    You will be given the inputs inside <input> tags.\\\n",
    "\n",
    "    Input:  <input>[\"hello\", 42, \"pizza\", 2, 5]</input>\n",
    "    Output: [42,2,5]\n",
    "    \"\"\",\n",
    ")\n",
    "\n",
    "# [ChatCompletionMessage(content='[42, 2, 13]', refusal=None, role='assistant', audio=None, function_call=None, tool_calls=None)]\n"
   ]
  },
  {
   "cell_type": "markdown",
   "metadata": {},
   "source": [
    "This works as expected, Let’s build on top of this by giving our LLM the ability to calculate sums of numbers. (You can define the function anyhow you would like)\n"
   ]
  },
  {
   "cell_type": "markdown",
   "metadata": {},
   "source": [
    "### LLM call + Tools\n",
    "\n",
    "**Let’s create a utility function that takes another function and creates it’s schema**"
   ]
  },
  {
   "cell_type": "code",
   "execution_count": 9,
   "metadata": {},
   "outputs": [],
   "source": [
    "from openai.types.chat import ChatCompletionToolParam\n",
    "\n",
    "\n",
    "# def function_to_schema(func: Callable[..., Any]) -> Dict[str, Any]:\n",
    "def function_to_schema(func: Callable[..., Any]) -> ChatCompletionToolParam:\n",
    "    type_map: Dict[Any, str] = {\n",
    "        str: \"string\",\n",
    "        int: \"integer\",\n",
    "        float: \"number\",\n",
    "        bool: \"boolean\",\n",
    "        list: \"array\",\n",
    "        dict: \"object\",\n",
    "        type(None): \"null\",\n",
    "    }\n",
    "\n",
    "    try:\n",
    "        # Get the function's signature\n",
    "        signature = inspect.signature(func)\n",
    "    except ValueError as e:\n",
    "        raise ValueError(\n",
    "            f\"Failed to get signature for function {func.__name__}: {str(e)}\"\n",
    "        )\n",
    "\n",
    "    # Define the parameters dictionary\n",
    "    parameters: Dict[str, str | Dict[str, str]] = {}\n",
    "    for param in signature.parameters.values():\n",
    "        try:\n",
    "            param_type = type_map.get(param.annotation, \"string\")\n",
    "        except KeyError as e:\n",
    "            raise KeyError(\n",
    "                f\"Unknown type annotation {param.annotation} for parameter {param.name}: {str(e)}\"\n",
    "            )\n",
    "        parameters[param.name] = {\"type\": param_type}\n",
    "\n",
    "    # No default value means required\n",
    "    required = [\n",
    "        param.name\n",
    "        for param in signature.parameters.values()\n",
    "        if param.default == inspect._empty  # type: ignore\n",
    "    ]\n",
    "\n",
    "    # Return the schema dictionary\n",
    "    return {\n",
    "        \"type\": \"function\",\n",
    "        \"function\": {\n",
    "            \"name\": func.__name__,\n",
    "            \"description\": (func.__doc__ or \"\").strip(),\n",
    "            \"parameters\": {\n",
    "                \"type\": \"object\",\n",
    "                \"properties\": parameters,\n",
    "                \"required\": required,\n",
    "            },\n",
    "        },\n",
    "    }"
   ]
  },
  {
   "cell_type": "markdown",
   "metadata": {},
   "source": [
    "**A function that takes another function can be simplified using a decorator. That is what one usually sees in most libraries/framework “@tool”. Now let’s create a sum tool.**\n"
   ]
  },
  {
   "cell_type": "code",
   "execution_count": 10,
   "metadata": {},
   "outputs": [
    {
     "name": "stdout",
     "output_type": "stream",
     "text": [
      "{\n",
      "  \"type\": \"function\",\n",
      "  \"function\": {\n",
      "    \"name\": \"add_numbers\",\n",
      "    \"description\": \"This function takes a List of numbers as Input and returns the sum\\n\\n    Args:\\n        input: List[int]\\n        output: int\",\n",
      "    \"parameters\": {\n",
      "      \"type\": \"object\",\n",
      "      \"properties\": {\n",
      "        \"num_list\": {\n",
      "          \"type\": \"string\"\n",
      "        }\n",
      "      },\n",
      "      \"required\": [\n",
      "        \"num_list\"\n",
      "      ]\n",
      "    }\n",
      "  }\n",
      "}\n"
     ]
    }
   ],
   "source": [
    "import json\n",
    "\n",
    "\n",
    "def add_numbers(num_list: List[int]):\n",
    "    \"\"\"\n",
    "    This function takes a List of numbers as Input and returns the sum\n",
    "\n",
    "    Args:\n",
    "        input: List[int]\n",
    "        output: int\n",
    "    \"\"\"\n",
    "    return sum(num_list)\n",
    "\n",
    "\n",
    "schema = function_to_schema(add_numbers)\n",
    "print(json.dumps(schema, indent=2))\n",
    "\n",
    "# {\n",
    "#   \"type\": \"function\",\n",
    "#   \"function\": {\n",
    "#     \"name\": \"add_numbers\",\n",
    "#     \"description\": \"This function takes a List of numbers as Input and returns the sum \\n  \\n  Args:\\n      input: List[int]\\n      output: int\",\n",
    "#     \"parameters\": {\n",
    "#       \"type\": \"object\",\n",
    "#       \"properties\": {\n",
    "#         \"num_list\": {\n",
    "#           \"type\": \"string\"\n",
    "#         }\n",
    "#       },\n",
    "#       \"required\": [\n",
    "#         \"num_list\"\n",
    "#       ]\n",
    "#     }\n",
    "#   }\n",
    "# }\n"
   ]
  },
  {
   "cell_type": "code",
   "execution_count": 11,
   "metadata": {},
   "outputs": [
    {
     "data": {
      "text/plain": [
       "dict"
      ]
     },
     "execution_count": 11,
     "metadata": {},
     "output_type": "execute_result"
    }
   ],
   "source": [
    "type(schema)"
   ]
  },
  {
   "cell_type": "markdown",
   "metadata": {},
   "source": [
    "More dummy proof:"
   ]
  },
  {
   "cell_type": "code",
   "execution_count": 12,
   "metadata": {},
   "outputs": [],
   "source": [
    "from typing import List, Union\n",
    "import ast\n",
    "\n",
    "\n",
    "def add_numbers(num_list: Union[List[int], str]) -> int:\n",
    "    \"\"\"\n",
    "    This function takes either a List of integers or a string representation of a list\n",
    "    and returns the sum of the numbers.\n",
    "\n",
    "    Args:\n",
    "        num_list: List[int] or str - Either a list of integers or a string representing a list\n",
    "            e.g. \"[1, 2, 3]\" or [1, 2, 3]\n",
    "\n",
    "    Returns:\n",
    "        int: The sum of all numbers in the list\n",
    "\n",
    "    Raises:\n",
    "        ValueError: If the string cannot be converted to a list of integers\n",
    "        SyntaxError: If the string is not properly formatted\n",
    "    \"\"\"\n",
    "    if isinstance(num_list, str):\n",
    "        try:\n",
    "            num_list = ast.literal_eval(num_list)\n",
    "            if not isinstance(num_list, list):\n",
    "                raise ValueError(\"String must represent a list\")\n",
    "        except (ValueError, SyntaxError) as e:\n",
    "            raise ValueError(f\"Invalid input string format: {e}\")\n",
    "\n",
    "    # Verify all elements are integers\n",
    "    if not all(isinstance(x, int) for x in num_list):  # type: ignore\n",
    "        raise ValueError(\"All elements must be integers\")\n",
    "\n",
    "    return sum(num_list)"
   ]
  },
  {
   "cell_type": "markdown",
   "metadata": {},
   "source": [
    "Let’s create an additional `multiply_numbers` tool too."
   ]
  },
  {
   "cell_type": "code",
   "execution_count": 13,
   "metadata": {},
   "outputs": [],
   "source": [
    "from typing import List, Union\n",
    "\n",
    "# import ast # it is already built in Python it seems\n",
    "from functools import reduce\n",
    "from operator import mul\n",
    "\n",
    "\n",
    "def multiply_numbers(num_list: Union[List[int], str]) -> int:\n",
    "    \"\"\"\n",
    "    This function takes either a List of integers or a string representation of a list\n",
    "    and returns the product of all numbers.\n",
    "\n",
    "    Args:\n",
    "        num_list: List[int] or str - Either a list of integers or a string representing a list\n",
    "            e.g. \"[1, 2, 3]\" or [1, 2, 3]\n",
    "\n",
    "    Returns:\n",
    "        int: The product of all numbers in the list\n",
    "\n",
    "    Raises:\n",
    "        ValueError: If the string cannot be converted to a list of integers,\n",
    "                   if the list is empty, or if any element is not an integer\n",
    "        SyntaxError: If the string is not properly formatted\n",
    "    \"\"\"\n",
    "    # Handle string input\n",
    "    if isinstance(num_list, str):\n",
    "        try:\n",
    "            num_list = ast.literal_eval(num_list)\n",
    "            if not isinstance(num_list, list):\n",
    "                raise ValueError(\"String must represent a list\")\n",
    "        except (ValueError, SyntaxError) as e:\n",
    "            raise ValueError(f\"Invalid input string format: {e}\")\n",
    "\n",
    "    # Check if list is empty\n",
    "    if not num_list:\n",
    "        raise ValueError(\"List cannot be empty\")\n",
    "\n",
    "    # Verify all elements are integers\n",
    "    if not all(isinstance(x, int) for x in num_list):  # type: ignore\n",
    "        raise ValueError(\"All elements must be integers\")\n",
    "\n",
    "    # Calculate product using reduce and multiplication operator\n",
    "    return reduce(mul, num_list)\n"
   ]
  },
  {
   "cell_type": "markdown",
   "metadata": {},
   "source": [
    "Time to use this tool with our LLM to see how well it works."
   ]
  },
  {
   "cell_type": "code",
   "execution_count": 14,
   "metadata": {},
   "outputs": [
    {
     "name": "stdout",
     "output_type": "stream",
     "text": [
      "[ChatCompletionMessage(content='[42,2,13]', role='assistant', function_call=None, tool_calls=None, refusal=None), ChatCompletionMessage(content='', role='assistant', function_call=None, tool_calls=[ChatCompletionMessageToolCall(id='call_CpMJR0JNSkniWMTPekUeI18s', function=Function(arguments='{\"num_list\": \"[23,51,321]\"}', name='add_numbers'), type='function', index=0)], refusal=None)]\n"
     ]
    }
   ],
   "source": [
    "tools = [add_numbers, multiply_numbers]\n",
    "tool_schemas = [function_to_schema(tool) for tool in tools]\n",
    "\n",
    "response = run_llm(\n",
    "    content=\"\"\"\n",
    "    [23,51,321]\n",
    "    \"\"\",\n",
    "    system_message=\"\"\"\n",
    "    Use the appropriate tool to calculate the sum of numbers, and only the tool and nothing else.\n",
    "    \"\"\",\n",
    "    tool_schemas=tool_schemas,\n",
    ")\n",
    "\n",
    "print(response)\n",
    "\n",
    "# [ChatCompletionMessage(content=None, refusal=None, role='assistant', audio=None, function_call=None, tool_calls=[ChatCompletionMessageToolCall(id='call_enJSWBrayTgSlFCKgrgw6BGz', function=Function(arguments='{\"num_list\":\"[23,51,321]\"}', name='add_numbers'), type='function')])]\n"
   ]
  },
  {
   "cell_type": "code",
   "execution_count": 15,
   "metadata": {},
   "outputs": [
    {
     "data": {
      "text/plain": [
       "[ChatCompletionMessage(content='[42,2,13]', role='assistant', function_call=None, tool_calls=None, refusal=None),\n",
       " ChatCompletionMessage(content='', role='assistant', function_call=None, tool_calls=[ChatCompletionMessageToolCall(id='call_CpMJR0JNSkniWMTPekUeI18s', function=Function(arguments='{\"num_list\": \"[23,51,321]\"}', name='add_numbers'), type='function', index=0)], refusal=None)]"
      ]
     },
     "execution_count": 15,
     "metadata": {},
     "output_type": "execute_result"
    }
   ],
   "source": [
    "response"
   ]
  },
  {
   "cell_type": "markdown",
   "metadata": {},
   "source": [
    "> **Now that we can get the tool names and arguments, its time to create another utility function that can take these info and ACTUALLY EXECUTE THEM**"
   ]
  },
  {
   "cell_type": "code",
   "execution_count": 16,
   "metadata": {},
   "outputs": [],
   "source": [
    "from openai.types.chat.chat_completion_message_tool_call import (\n",
    "    ChatCompletionMessageToolCall,\n",
    ")"
   ]
  },
  {
   "cell_type": "code",
   "execution_count": 17,
   "metadata": {},
   "outputs": [
    {
     "data": {
      "text/plain": [
       "(list,\n",
       " function,\n",
       " <function __main__.add_numbers(num_list: Union[List[int], str]) -> int>,\n",
       " <function __main__.multiply_numbers(num_list: Union[List[int], str]) -> int>)"
      ]
     },
     "execution_count": 17,
     "metadata": {},
     "output_type": "execute_result"
    }
   ],
   "source": [
    "type(tools), type(tools[1]), tools[0], tools[1]"
   ]
  },
  {
   "cell_type": "code",
   "execution_count": 18,
   "metadata": {},
   "outputs": [
    {
     "name": "stdout",
     "output_type": "stream",
     "text": [
      "Assistant: add_numbers({'num_list': '[23,51,321]'})\n"
     ]
    }
   ],
   "source": [
    "tools_map = {tool.__name__: tool for tool in tools}\n",
    "messages: List[Dict[str, Any]] = []\n",
    "\n",
    "\n",
    "def execute_tool_call(\n",
    "    tool_call: ChatCompletionMessageToolCall, tools_map: Dict[str, Callable[..., int]]\n",
    ") -> int:\n",
    "    name = tool_call.function.name\n",
    "    args = json.loads(tool_call.function.arguments)\n",
    "\n",
    "    print(f\"Assistant: {name}({args})\")\n",
    "\n",
    "    # call corresponding function with provided arguments\n",
    "    return tools_map[name](**args)\n",
    "\n",
    "\n",
    "# NOTE: Had to shift from response[0] to response[1]\n",
    "for tool_call in response[1].tool_calls:  # type:ignore\n",
    "    result = execute_tool_call(tool_call, tools_map)\n",
    "\n",
    "    # add result back to conversation\n",
    "    result_message: Dict[str, Any] = {\n",
    "        \"role\": \"tool\",\n",
    "        \"tool_call_id\": tool_call.id,\n",
    "        \"content\": result,\n",
    "    }\n",
    "    messages.append(result_message)\n",
    "\n",
    "# Assistant: add_numbers({'num_list': '[23,51,321]'})\n"
   ]
  },
  {
   "cell_type": "markdown",
   "metadata": {},
   "source": [
    "**Now we would like our llms to take this response and send an output to the user. Let’s do that.**"
   ]
  },
  {
   "cell_type": "code",
   "execution_count": 19,
   "metadata": {},
   "outputs": [],
   "source": [
    "from typing import Iterable\n",
    "from openai.types.chat import ChatCompletionMessageParam"
   ]
  },
  {
   "cell_type": "code",
   "execution_count": 20,
   "metadata": {},
   "outputs": [
    {
     "data": {
      "text/plain": [
       "[<function __main__.add_numbers(num_list: Union[List[int], str]) -> int>,\n",
       " <function __main__.multiply_numbers(num_list: Union[List[int], str]) -> int>]"
      ]
     },
     "execution_count": 20,
     "metadata": {},
     "output_type": "execute_result"
    }
   ],
   "source": [
    "tools"
   ]
  },
  {
   "cell_type": "code",
   "execution_count": 21,
   "metadata": {},
   "outputs": [],
   "source": [
    "# from openai.types.chat import ChatCompletionMessageParam\n",
    "\n",
    "messages: list[ChatCompletionMessageParam] = [\n",
    "    {\n",
    "        \"role\": \"user\",\n",
    "        \"content\": \"Say this is a test\",\n",
    "    },\n",
    "]\n"
   ]
  },
  {
   "cell_type": "code",
   "execution_count": 22,
   "metadata": {},
   "outputs": [],
   "source": [
    "messages.append(\n",
    "    {\n",
    "        \"role\": \"assistant\",\n",
    "        \"content\": \"This is a test2\",\n",
    "    }\n",
    ")"
   ]
  },
  {
   "cell_type": "code",
   "execution_count": 23,
   "metadata": {},
   "outputs": [
    {
     "data": {
      "text/plain": [
       "[{'role': 'user', 'content': 'Say this is a test'},\n",
       " {'role': 'assistant', 'content': 'This is a test2'}]"
      ]
     },
     "execution_count": 23,
     "metadata": {},
     "output_type": "execute_result"
    }
   ],
   "source": [
    "messages\n"
   ]
  },
  {
   "cell_type": "code",
   "execution_count": 24,
   "metadata": {},
   "outputs": [
    {
     "data": {
      "text/plain": [
       "[{'role': 'system', 'content': 'jo tjere pasda'}]"
      ]
     },
     "execution_count": 24,
     "metadata": {},
     "output_type": "execute_result"
    }
   ],
   "source": [
    "api_messages: List[ChatCompletionMessageParam] = [\n",
    "    {\"role\": \"system\", \"content\": \"jo tjere pasda\"}\n",
    "]\n",
    "api_messages"
   ]
  },
  {
   "cell_type": "code",
   "execution_count": 25,
   "metadata": {},
   "outputs": [
    {
     "data": {
      "text/plain": [
       "[{'role': 'user', 'content': 'asdsaasd'},\n",
       " {'role': 'system', 'content': 'asdsadsasdsaasd'},\n",
       " {'role': 'system', 'content': 'a'},\n",
       " {'role': 'system', 'content': 'a'},\n",
       " {'role': 'user', 'content': 'vv'},\n",
       " {'role': 'tool', 'content': 'hihere', 'tool_call_id': '123'}]"
      ]
     },
     "execution_count": 25,
     "metadata": {},
     "output_type": "execute_result"
    }
   ],
   "source": [
    "api_messages: List[ChatCompletionMessageParam] = []\n",
    "api_messages.append({\"role\": \"user\", \"content\": \"asdsaasd\"})  # works\n",
    "api_messages.append({\"role\": \"system\", \"content\": \"asdsadsasdsaasd\"})  # works\n",
    "api_messages.extend([{\"role\": \"system\", \"content\": \"a\"}])  # works\n",
    "api_messages.extend(\n",
    "    [{\"role\": \"system\", \"content\": \"a\"}, {\"role\": \"user\", \"content\": \"vv\"}]\n",
    ")  # works\n",
    "api_messages.append(\n",
    "    {\"role\": \"tool\", \"content\": \"hihere\", \"tool_call_id\": \"123\"}\n",
    ")  # works but needs all three keys\n",
    "\n",
    "# api_messages.append({\"role\": \"randomrole\", \"content\": 'asdsaasd'}) # type error!!!\n",
    "# api_messages.extend([{\"role\": \"susu\", \"content\": \"a\"}])  # type error\n",
    "\n",
    "api_messages"
   ]
  },
  {
   "cell_type": "code",
   "execution_count": 26,
   "metadata": {},
   "outputs": [
    {
     "name": "stdout",
     "output_type": "stream",
     "text": [
      "eee\n"
     ]
    }
   ],
   "source": [
    "a = []\n",
    "if a:\n",
    "    print(\"ff\")\n",
    "else:\n",
    "    print(\"eee\")"
   ]
  },
  {
   "cell_type": "code",
   "execution_count": 27,
   "metadata": {},
   "outputs": [
    {
     "data": {
      "text/plain": [
       "[ChatCompletionMessage(content='[42,2,13]', role='assistant', function_call=None, tool_calls=None, refusal=None),\n",
       " ChatCompletionMessage(content='', role='assistant', function_call=None, tool_calls=[ChatCompletionMessageToolCall(id='call_CpMJR0JNSkniWMTPekUeI18s', function=Function(arguments='{\"num_list\": \"[23,51,321]\"}', name='add_numbers'), type='function', index=0)], refusal=None)]"
      ]
     },
     "execution_count": 27,
     "metadata": {},
     "output_type": "execute_result"
    }
   ],
   "source": [
    "response"
   ]
  },
  {
   "cell_type": "code",
   "execution_count": 28,
   "metadata": {},
   "outputs": [],
   "source": [
    "tool_schemas: List[ChatCompletionToolParam] = [\n",
    "    function_to_schema(tool) for tool in tools\n",
    "]\n",
    "tools_map: Dict[str, Callable[..., int]] = {tool.__name__: tool for tool in tools}\n",
    "\n",
    "api_messages: List[ChatCompletionMessageParam] = [\n",
    "    {\"role\": \"system\", \"content\": \"hi yoyo\"}\n",
    "]\n",
    "# api_messages.extend(user_messages)\n",
    "\n",
    "# for msg in user_messages:\n",
    "#     api_messages.append({\"role\": msg[\"role\"], \"content\": msg[\"content\"]})\n",
    "# api_messages.append({\"role\": \"user\", \"content\": user_messages[\"content\"]})\n",
    "\n",
    "# === 1. get openai completion ===\n",
    "response: ChatCompletion = client.chat.completions.create(\n",
    "    model=\"gpt-4o-mini\",\n",
    "    temperature=0,\n",
    "    messages=api_messages,\n",
    "    tools=tool_schemas,\n",
    ")"
   ]
  },
  {
   "cell_type": "code",
   "execution_count": 29,
   "metadata": {},
   "outputs": [
    {
     "data": {
      "text/plain": [
       "openai.types.chat.chat_completion.ChatCompletion"
      ]
     },
     "execution_count": 29,
     "metadata": {},
     "output_type": "execute_result"
    }
   ],
   "source": [
    "type(response)"
   ]
  },
  {
   "cell_type": "code",
   "execution_count": 30,
   "metadata": {},
   "outputs": [
    {
     "data": {
      "text/plain": [
       "ChatCompletionMessage(content='Hello! How can I assist you today?', role='assistant', function_call=None, tool_calls=None, refusal=None)"
      ]
     },
     "execution_count": 30,
     "metadata": {},
     "output_type": "execute_result"
    }
   ],
   "source": [
    "response.choices[0].message"
   ]
  },
  {
   "cell_type": "code",
   "execution_count": 31,
   "metadata": {},
   "outputs": [],
   "source": [
    "from openai.types.chat import (\n",
    "    ChatCompletion,\n",
    "    ChatCompletionMessage,\n",
    "    ChatCompletionToolParam,\n",
    "    ChatCompletionMessageParam,\n",
    "    ChatCompletionMessageToolCall,\n",
    ")\n",
    "from openai._types import (\n",
    "    NotGiven,\n",
    "    NOT_GIVEN,\n",
    ")  # important for the way tool call schema is defined\n",
    "\n",
    "\n",
    "def run_agent(\n",
    "    system_message: str,\n",
    "    tools: List[Callable[..., int]],\n",
    "    # user_messages: List[Dict[\n",
    "    #     Literal[\"role\", \"content\"], str\n",
    "    # ]],  # allowed keys are \"role\" and \"content\n",
    "    # tools: List[ChatCompletionToolParam],\n",
    "    # tools: List[Any],\n",
    "    user_messages: List[ChatCompletionMessageParam],\n",
    "):\n",
    "    num_init_messages = len(user_messages)\n",
    "    user_messages = user_messages.copy()\n",
    "\n",
    "    # while True:\n",
    "    # turn python functions into tools and save a reverse map\n",
    "    tool_schemas: List[ChatCompletionToolParam] = [\n",
    "        function_to_schema(tool) for tool in tools\n",
    "    ]\n",
    "    tools_map: Dict[str, Callable[..., int]] = {tool.__name__: tool for tool in tools}\n",
    "\n",
    "    # Make variables in correct types to pass into openai client\n",
    "    api_messages: List[ChatCompletionMessageParam] = [\n",
    "        {\"role\": \"system\", \"content\": system_message}\n",
    "    ]\n",
    "    api_messages.extend(user_messages)\n",
    "    tools_param: Union[List[ChatCompletionToolParam], NotGiven] = (\n",
    "        tool_schemas if tool_schemas else NOT_GIVEN\n",
    "    )\n",
    "\n",
    "    # === 1. get openai completion ===\n",
    "    response: ChatCompletion = client.chat.completions.create(\n",
    "        model=\"gpt-4o-mini\",\n",
    "        temperature=0,\n",
    "        messages=api_messages,\n",
    "        tools=tools_param,\n",
    "        n=1,\n",
    "    )\n",
    "    print(f\"OG response = {response}\")\n",
    "\n",
    "    try:\n",
    "        message: ChatCompletionMessage = response.choices[0].message\n",
    "        print(f\"response = {response}, message = {message}\")\n",
    "    except Exception as e:\n",
    "        print(e)\n",
    "        # break\n",
    "        return\n",
    "\n",
    "    # Now append the properly formatted message\n",
    "    # message is of type ChatCompletionMessage, we need ChatCompletionMessageParam\n",
    "    result_message: ChatCompletionMessageParam = {\n",
    "        \"role\": \"assistant\",\n",
    "        \"content\": message.content,\n",
    "    }\n",
    "    user_messages.append(result_message)\n",
    "    # user_messages.append(message)\n",
    "\n",
    "    if message.content:  # print assistant response\n",
    "        print(\"Assistant response is:\", message.content)\n",
    "\n",
    "    if not message.tool_calls:  # if finished handling tool calls, break\n",
    "        # break\n",
    "        print(f\"no tool call\")\n",
    "        return\n",
    "\n",
    "    # === 2. handle tool calls ===\n",
    "\n",
    "    print(\n",
    "        f\"Message has tool calls as : {message.tool_calls}\",\n",
    "    )\n",
    "\n",
    "    # tool_call is of type ChatCompletionMessageToolCall\n",
    "    for tool_call in message.tool_calls:\n",
    "        result = execute_tool_call(tool_call, tools_map)\n",
    "\n",
    "        result_message: ChatCompletionMessageParam = {\n",
    "            \"role\": \"tool\",\n",
    "            \"tool_call_id\": tool_call.id,\n",
    "            \"content\": str(result),\n",
    "        }\n",
    "        print(f\"result message is {result_message}\")\n",
    "\n",
    "        user_messages.append(result_message)\n",
    "\n",
    "    # ==== 3. return new messages =====\n",
    "    return user_messages\n",
    "    # return user_messages[num_init_messages:]\n",
    "\n",
    "\n",
    "def execute_tool_call(\n",
    "    tool_call: ChatCompletionMessageToolCall, tools_map: Dict[str, Callable[..., int]]\n",
    "):\n",
    "    name: str = tool_call.function.name\n",
    "    args: Any = json.loads(tool_call.function.arguments)\n",
    "\n",
    "    print(f\"Assistant executing tool call: {name}({args})\")\n",
    "\n",
    "    # call corresponding function with provided arguments\n",
    "    result = str(tools_map[name](**args))\n",
    "    print(f\"Assistant result: {result}\")\n",
    "\n",
    "    return result\n",
    "\n"
   ]
  },
  {
   "cell_type": "code",
   "execution_count": 32,
   "metadata": {},
   "outputs": [
    {
     "name": "stdout",
     "output_type": "stream",
     "text": [
      "OG response = ChatCompletion(id='gen-1742327776-8AwuH3AHUrpLFuuuc8cS', choices=[Choice(finish_reason='tool_calls', index=0, logprobs=None, message=ChatCompletionMessage(content='', role='assistant', function_call=None, tool_calls=[ChatCompletionMessageToolCall(id='call_2WQUGprA9dyP6f2E7kvNnfqw', function=Function(arguments='{\"num_list\":\"[1, 3, 990, 1]\"}', name='add_numbers'), type='function', index=0)], refusal=None), native_finish_reason='tool_calls')], created=1742327776, model='openai/gpt-4o-mini', object='chat.completion', system_fingerprint='fp_b8bc95a0ac', usage=CompletionUsage(completion_tokens=27, prompt_tokens=417, total_tokens=444), provider='OpenAI')\n",
      "response = ChatCompletion(id='gen-1742327776-8AwuH3AHUrpLFuuuc8cS', choices=[Choice(finish_reason='tool_calls', index=0, logprobs=None, message=ChatCompletionMessage(content='', role='assistant', function_call=None, tool_calls=[ChatCompletionMessageToolCall(id='call_2WQUGprA9dyP6f2E7kvNnfqw', function=Function(arguments='{\"num_list\":\"[1, 3, 990, 1]\"}', name='add_numbers'), type='function', index=0)], refusal=None), native_finish_reason='tool_calls')], created=1742327776, model='openai/gpt-4o-mini', object='chat.completion', system_fingerprint='fp_b8bc95a0ac', usage=CompletionUsage(completion_tokens=27, prompt_tokens=417, total_tokens=444), provider='OpenAI'), message = ChatCompletionMessage(content='', role='assistant', function_call=None, tool_calls=[ChatCompletionMessageToolCall(id='call_2WQUGprA9dyP6f2E7kvNnfqw', function=Function(arguments='{\"num_list\":\"[1, 3, 990, 1]\"}', name='add_numbers'), type='function', index=0)], refusal=None)\n",
      "Message has tool calls as : [ChatCompletionMessageToolCall(id='call_2WQUGprA9dyP6f2E7kvNnfqw', function=Function(arguments='{\"num_list\":\"[1, 3, 990, 1]\"}', name='add_numbers'), type='function', index=0)]\n",
      "Assistant executing tool call: add_numbers({'num_list': '[1, 3, 990, 1]'})\n",
      "Assistant result: 995\n",
      "result message is {'role': 'tool', 'tool_call_id': 'call_2WQUGprA9dyP6f2E7kvNnfqw', 'content': '995'}\n"
     ]
    }
   ],
   "source": [
    "tools = [add_numbers]\n",
    "messages: List[ChatCompletionMessageParam] = []\n",
    "\n",
    "system_message = \"\"\"\n",
    "    You are an expert number processor and classifier. Your task is to extract and sum only the numbers from any input, ignoring all non-numeric values.\n",
    "\n",
    "    Rules:\n",
    "    1. Only process numeric values (integers)\n",
    "    2. Ignore all non-numeric values (strings, letters, special characters)\n",
    "    3. Use the add_numbers function to calculate the sum\n",
    "    4. Format the input properly before passing to add_numbers\n",
    "\n",
    "    Examples:\n",
    "    Input: <input>[\"hello\", 42, \"pizza\", 2, 5]</input>\n",
    "    Process: Extract numbers [42, 2, 5]\n",
    "    Output: 49\n",
    "\n",
    "    Input: <input>[asj,cg,111,42,2]</input>\n",
    "    Process: Extract numbers [111, 42, 2]\n",
    "    Output: 155\n",
    "\n",
    "    Input: <input>[text, more, 100, words, 50]</input>\n",
    "    Process: Extract numbers [100, 50]\n",
    "    Output: 150\n",
    "\n",
    "    For any input, first extract the numbers, then use add_numbers function to calculate their sum.\n",
    "    Make sure to format the input as a proper list string with square brackets before passing to add_numbers.\n",
    "    \"\"\"\n",
    "\n",
    "\n",
    "# Funny errors while in a while loop\n",
    "# while True:\n",
    "user = input(\"User: \")\n",
    "messages.append({\"role\": \"user\", \"content\": user})\n",
    "\n",
    "new_messages = run_agent(system_message, tools, messages)\n",
    "messages.extend(new_messages)\n"
   ]
  },
  {
   "cell_type": "code",
   "execution_count": 33,
   "metadata": {},
   "outputs": [
    {
     "data": {
      "text/plain": [
       "[{'role': 'user', 'content': '1,3,990,1'},\n",
       " {'role': 'assistant', 'content': ''},\n",
       " {'role': 'tool',\n",
       "  'tool_call_id': 'call_2WQUGprA9dyP6f2E7kvNnfqw',\n",
       "  'content': '995'}]"
      ]
     },
     "execution_count": 33,
     "metadata": {},
     "output_type": "execute_result"
    }
   ],
   "source": [
    "new_messages"
   ]
  },
  {
   "cell_type": "markdown",
   "metadata": {},
   "source": [
    "---\n",
    "## Agent(LLM call + Tools + Pydantic Model)\n",
    "\n",
    "Let’s first build a model (This is the pydantic model, I will be referring to these as models)\n"
   ]
  },
  {
   "cell_type": "code",
   "execution_count": 34,
   "metadata": {},
   "outputs": [],
   "source": [
    "# import pydantic\n",
    "from pydantic import BaseModel\n",
    "\n",
    "\n",
    "class Agent(BaseModel):\n",
    "    name: str = \"Agent\"\n",
    "    llm: str = \"gpt-4o-mini\"\n",
    "    system_message: str = \"You are a helpful Agent\"\n",
    "    tools: List[Callable[..., int]] = []\n"
   ]
  },
  {
   "cell_type": "markdown",
   "metadata": {},
   "source": [
    "> Now we can modify the code we wrote earlier to use this model"
   ]
  },
  {
   "cell_type": "code",
   "execution_count": 60,
   "metadata": {},
   "outputs": [],
   "source": [
    "from openai.types.chat import (\n",
    "    ChatCompletion,\n",
    "    ChatCompletionMessage,\n",
    "    ChatCompletionToolParam,\n",
    "    ChatCompletionMessageParam,\n",
    "    ChatCompletionMessageToolCall,\n",
    ")\n",
    "from openai._types import (\n",
    "    NotGiven,\n",
    "    NOT_GIVEN,\n",
    ")  # important for the way tool call schema is defined\n",
    "\n",
    "\n",
    "def run_agent(agent: Agent, messages: List[ChatCompletionMessageParam]):\n",
    "    num_init_messages = len(messages)\n",
    "    messages = messages.copy()\n",
    "\n",
    "    # while True:\n",
    "\n",
    "    # turn python functions into tools and save a reverse map\n",
    "    tool_schemas: List[ChatCompletionToolParam] = [\n",
    "        function_to_schema(tool) for tool in agent.tools\n",
    "    ]\n",
    "    tools_map: Dict[str, Callable[..., int]] = {\n",
    "        tool.__name__: tool for tool in agent.tools\n",
    "    }\n",
    "\n",
    "    api_messages: List[ChatCompletionMessageParam] = [\n",
    "        {\"role\": \"system\", \"content\": agent.system_message}\n",
    "    ]\n",
    "    api_messages.extend(messages)\n",
    "    tools_param: Union[\n",
    "        List[ChatCompletionToolParam], NotGiven\n",
    "    ] = tool_schemas if tool_schemas else NOT_GIVEN\n",
    "\n",
    "    print(f'message to llm = {api_messages}')\n",
    "\n",
    "    # === 1. get openai completion ===\n",
    "    response: ChatCompletion = client.chat.completions.create(\n",
    "        model=agent.llm,\n",
    "        messages=api_messages,\n",
    "        tools=tools_param,\n",
    "    )\n",
    "\n",
    "    print(f'response is {response}')\n",
    "\n",
    "    message: ChatCompletionMessage = response.choices[0].message\n",
    "    result_message: ChatCompletionMessageParam = {\n",
    "        \"role\": \"assistant\",\n",
    "        \"content\": message.content,\n",
    "    }\n",
    "    messages.append(result_message)\n",
    "\n",
    "    if message.content:  # print assistant response\n",
    "        print(\"Assistant:\", message.content)\n",
    "\n",
    "    if not message.tool_calls:  # if finished handling tool calls, break\n",
    "        # break\n",
    "        return\n",
    "\n",
    "    # === 2. handle tool calls ===\n",
    "\n",
    "    for tool_call in message.tool_calls:\n",
    "        result = execute_tool_call(tool_call, tools_map)\n",
    "\n",
    "        result_message: ChatCompletionMessageParam = {\n",
    "            \"role\": \"tool\",\n",
    "            \"tool_call_id\": tool_call.id,\n",
    "            \"content\": str(result),\n",
    "        }\n",
    "        print(f\"result message is {result_message}\")\n",
    "        messages.append(result_message)\n",
    "\n",
    "    # ==== 3. return new messages =====\n",
    "    return messages[num_init_messages:]\n",
    "\n",
    "\n",
    "def execute_tool_call(\n",
    "tool_call: ChatCompletionMessageToolCall, tools_map: Dict[str, Callable[..., int]]\n",
    "):\n",
    "    name: str = tool_call.function.name\n",
    "    args: Any = json.loads(tool_call.function.arguments)\n",
    "\n",
    "    print(f\"Assistant: {name}({args})\")\n",
    "    \n",
    "    # call corresponding function with provided arguments\n",
    "    result = str(tools_map[name](**args))\n",
    "    print(f\"Assistant result: {result}\")\n",
    "\n",
    "    return result\n"
   ]
  },
  {
   "cell_type": "markdown",
   "metadata": {},
   "source": [
    ">> And just as easily we can run multiple agents"
   ]
  },
  {
   "cell_type": "code",
   "execution_count": 44,
   "metadata": {},
   "outputs": [
    {
     "name": "stdout",
     "output_type": "stream",
     "text": [
      "User: [hello, 10, world, 5, test, 2]\n",
      "Assistant: add_numbers({'num_list': '[10, 5, 2]'})\n",
      "Assistant result: 17\n",
      "result message is {'role': 'tool', 'tool_call_id': 'call_4yQc3gG2ClEGDWmekBLrXoNe', 'content': '17'}\n"
     ]
    }
   ],
   "source": [
    "calculator_add = Agent(\n",
    "    name=\"Addition Calculator\",\n",
    "    system_message=\"\"\"You are an expert number processor. Extract and sum only the numbers from any input, ignoring non-numeric values.\n",
    "    Example:\n",
    "    Input: [text, 100, words, 50]\n",
    "    Process: Extract numbers [100, 50]\n",
    "    Output: 150\"\"\",\n",
    "    tools=[add_numbers],\n",
    ")\n",
    "\n",
    "calculator_multiply = Agent(\n",
    "    name=\"Multiplication Calculator\",\n",
    "    system_message=\"\"\"You are an expert number processor. Extract and multiply only the numbers from any input, ignoring non-numeric values.\n",
    "    Example:\n",
    "    Input: [text, 4, words, 5]\n",
    "    Process: Extract numbers [4, 5]\n",
    "    Output: 20\"\"\",\n",
    "    tools=[multiply_numbers],\n",
    ")\n",
    "\n",
    "messages: List[ChatCompletionMessageParam] = []\n",
    "user_query = \"[hello, 10, world, 5, test, 2]\"\n",
    "print(\"User:\", user_query)\n",
    "messages.append({\"role\": \"user\", \"content\": user_query})\n",
    "response: List[ChatCompletionMessageParam] | None = run_agent(calculator_add, messages)  # Addition calculator"
   ]
  },
  {
   "cell_type": "code",
   "execution_count": 45,
   "metadata": {},
   "outputs": [
    {
     "data": {
      "text/plain": [
       "[{'role': 'assistant', 'content': ''},\n",
       " {'role': 'tool',\n",
       "  'tool_call_id': 'call_4yQc3gG2ClEGDWmekBLrXoNe',\n",
       "  'content': '17'}]"
      ]
     },
     "execution_count": 45,
     "metadata": {},
     "output_type": "execute_result"
    }
   ],
   "source": [
    "response"
   ]
  },
  {
   "cell_type": "code",
   "execution_count": 46,
   "metadata": {},
   "outputs": [],
   "source": [
    "messages.extend(response)"
   ]
  },
  {
   "cell_type": "code",
   "execution_count": 61,
   "metadata": {},
   "outputs": [],
   "source": [
    "messages = messages[:-1]\n"
   ]
  },
  {
   "cell_type": "code",
   "execution_count": 62,
   "metadata": {},
   "outputs": [
    {
     "data": {
      "text/plain": [
       "[{'role': 'user', 'content': '[hello, 10, world, 5, test, 2]'},\n",
       " {'role': 'assistant', 'content': ''},\n",
       " {'role': 'tool',\n",
       "  'tool_call_id': 'call_4yQc3gG2ClEGDWmekBLrXoNe',\n",
       "  'content': '17'}]"
      ]
     },
     "execution_count": 62,
     "metadata": {},
     "output_type": "execute_result"
    }
   ],
   "source": [
    "messages\n"
   ]
  },
  {
   "cell_type": "code",
   "execution_count": 63,
   "metadata": {},
   "outputs": [
    {
     "name": "stdout",
     "output_type": "stream",
     "text": [
      "User: Now multiply these numbers\n"
     ]
    },
    {
     "data": {
      "text/plain": [
       "[{'role': 'user', 'content': '[hello, 10, world, 5, test, 2]'},\n",
       " {'role': 'assistant', 'content': ''},\n",
       " {'role': 'tool',\n",
       "  'tool_call_id': 'call_4yQc3gG2ClEGDWmekBLrXoNe',\n",
       "  'content': '17'},\n",
       " {'role': 'user', 'content': 'Now multiply these numbers'}]"
      ]
     },
     "execution_count": 63,
     "metadata": {},
     "output_type": "execute_result"
    }
   ],
   "source": [
    "user_query = \"Now multiply these numbers\"  # implicitly refers to the numbers from previous input\n",
    "print(\"User:\", user_query)\n",
    "messages.append({\"role\": \"user\", \"content\": user_query})\n",
    "messages\n"
   ]
  },
  {
   "cell_type": "code",
   "execution_count": 64,
   "metadata": {},
   "outputs": [
    {
     "name": "stdout",
     "output_type": "stream",
     "text": [
      "message to llm = [{'role': 'system', 'content': 'You are an expert number processor. Extract and multiply only the numbers from any input, ignoring non-numeric values.\\n    Example:\\n    Input: [text, 4, words, 5]\\n    Process: Extract numbers [4, 5]\\n    Output: 20'}, {'role': 'user', 'content': '[hello, 10, world, 5, test, 2]'}, {'role': 'assistant', 'content': ''}, {'role': 'tool', 'tool_call_id': 'call_4yQc3gG2ClEGDWmekBLrXoNe', 'content': '17'}, {'role': 'user', 'content': 'Now multiply these numbers'}]\n",
      "response is ChatCompletion(id=None, choices=None, created=None, model=None, object=None, system_fingerprint=None, usage=None, error={'message': 'Provider returned error', 'code': 400, 'metadata': {'raw': '{\\n  \"error\": {\\n    \"message\": \"Invalid parameter: messages with role \\'tool\\' must be a response to a preceeding message with \\'tool_calls\\'.\",\\n    \"type\": \"invalid_request_error\",\\n    \"param\": \"messages.[3].role\",\\n    \"code\": null\\n  }\\n}', 'provider_name': 'OpenAI'}}, user_id='user_2hBqSbbZ9MEipNcXcubCDSCQp98')\n"
     ]
    },
    {
     "ename": "TypeError",
     "evalue": "'NoneType' object is not subscriptable",
     "output_type": "error",
     "traceback": [
      "\u001b[1;31m---------------------------------------------------------------------------\u001b[0m",
      "\u001b[1;31mTypeError\u001b[0m                                 Traceback (most recent call last)",
      "Cell \u001b[1;32mIn[64], line 1\u001b[0m\n\u001b[1;32m----> 1\u001b[0m response \u001b[38;5;241m=\u001b[39m \u001b[43mrun_agent\u001b[49m\u001b[43m(\u001b[49m\u001b[43mcalculator_multiply\u001b[49m\u001b[43m,\u001b[49m\u001b[43m \u001b[49m\u001b[43mmessages\u001b[49m\u001b[43m)\u001b[49m  \u001b[38;5;66;03m# Multiplication calculator\u001b[39;00m\n\u001b[0;32m      2\u001b[0m \u001b[38;5;66;03m# Gives a null chat completion?!\u001b[39;00m\n\u001b[0;32m      3\u001b[0m \n\u001b[0;32m      4\u001b[0m \n\u001b[1;32m   (...)\u001b[0m\n\u001b[0;32m      9\u001b[0m \u001b[38;5;66;03m# Assistant: multiply_numbers({'num_list': '[10, 5, 2]'})\u001b[39;00m\n\u001b[0;32m     10\u001b[0m \u001b[38;5;66;03m# Assistant: The product of the numbers extracted from the input is 100.\u001b[39;00m\n",
      "Cell \u001b[1;32mIn[60], line 47\u001b[0m, in \u001b[0;36mrun_agent\u001b[1;34m(agent, messages)\u001b[0m\n\u001b[0;32m     39\u001b[0m response: ChatCompletion \u001b[38;5;241m=\u001b[39m client\u001b[38;5;241m.\u001b[39mchat\u001b[38;5;241m.\u001b[39mcompletions\u001b[38;5;241m.\u001b[39mcreate(\n\u001b[0;32m     40\u001b[0m     model\u001b[38;5;241m=\u001b[39magent\u001b[38;5;241m.\u001b[39mllm,\n\u001b[0;32m     41\u001b[0m     messages\u001b[38;5;241m=\u001b[39mapi_messages,\n\u001b[0;32m     42\u001b[0m     tools\u001b[38;5;241m=\u001b[39mtools_param,\n\u001b[0;32m     43\u001b[0m )\n\u001b[0;32m     45\u001b[0m \u001b[38;5;28mprint\u001b[39m(\u001b[38;5;124mf\u001b[39m\u001b[38;5;124m'\u001b[39m\u001b[38;5;124mresponse is \u001b[39m\u001b[38;5;132;01m{\u001b[39;00mresponse\u001b[38;5;132;01m}\u001b[39;00m\u001b[38;5;124m'\u001b[39m)\n\u001b[1;32m---> 47\u001b[0m message: ChatCompletionMessage \u001b[38;5;241m=\u001b[39m \u001b[43mresponse\u001b[49m\u001b[38;5;241;43m.\u001b[39;49m\u001b[43mchoices\u001b[49m\u001b[43m[\u001b[49m\u001b[38;5;241;43m0\u001b[39;49m\u001b[43m]\u001b[49m\u001b[38;5;241m.\u001b[39mmessage\n\u001b[0;32m     48\u001b[0m result_message: ChatCompletionMessageParam \u001b[38;5;241m=\u001b[39m {\n\u001b[0;32m     49\u001b[0m     \u001b[38;5;124m\"\u001b[39m\u001b[38;5;124mrole\u001b[39m\u001b[38;5;124m\"\u001b[39m: \u001b[38;5;124m\"\u001b[39m\u001b[38;5;124massistant\u001b[39m\u001b[38;5;124m\"\u001b[39m,\n\u001b[0;32m     50\u001b[0m     \u001b[38;5;124m\"\u001b[39m\u001b[38;5;124mcontent\u001b[39m\u001b[38;5;124m\"\u001b[39m: message\u001b[38;5;241m.\u001b[39mcontent,\n\u001b[0;32m     51\u001b[0m }\n\u001b[0;32m     52\u001b[0m messages\u001b[38;5;241m.\u001b[39mappend(result_message)\n",
      "\u001b[1;31mTypeError\u001b[0m: 'NoneType' object is not subscriptable"
     ]
    }
   ],
   "source": [
    "response = run_agent(calculator_multiply, messages)  # Multiplication calculator\n",
    "# Gives a null chat completion?!\n",
    "\n",
    "\n",
    "# User: [hello, 10, world, 5, test, 2]\n",
    "# Assistant: add_numbers({'num_list': '[10, 5, 2]'})\n",
    "# Assistant: The sum of the numbers extracted from the input is 17.\n",
    "# User: Now multiply these numbers\n",
    "# Assistant: multiply_numbers({'num_list': '[10, 5, 2]'})\n",
    "# Assistant: The product of the numbers extracted from the input is 100.\n",
    "\n"
   ]
  },
  {
   "cell_type": "markdown",
   "metadata": {},
   "source": []
  },
  {
   "cell_type": "markdown",
   "metadata": {},
   "source": []
  },
  {
   "cell_type": "code",
   "execution_count": null,
   "metadata": {},
   "outputs": [],
   "source": []
  },
  {
   "cell_type": "code",
   "execution_count": null,
   "metadata": {},
   "outputs": [],
   "source": []
  },
  {
   "cell_type": "markdown",
   "metadata": {},
   "source": [
    "---"
   ]
  },
  {
   "cell_type": "markdown",
   "metadata": {},
   "source": []
  },
  {
   "cell_type": "markdown",
   "metadata": {},
   "source": []
  },
  {
   "cell_type": "markdown",
   "metadata": {},
   "source": []
  }
 ],
 "metadata": {
  "kernelspec": {
   "display_name": "Python 3",
   "language": "python",
   "name": "python3"
  },
  "language_info": {
   "codemirror_mode": {
    "name": "ipython",
    "version": 3
   },
   "file_extension": ".py",
   "mimetype": "text/x-python",
   "name": "python",
   "nbconvert_exporter": "python",
   "pygments_lexer": "ipython3",
   "version": "3.11.7"
  }
 },
 "nbformat": 4,
 "nbformat_minor": 2
}
