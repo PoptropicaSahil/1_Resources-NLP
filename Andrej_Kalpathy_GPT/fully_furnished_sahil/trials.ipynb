{
 "cells": [
  {
   "cell_type": "code",
   "execution_count": 12,
   "metadata": {},
   "outputs": [],
   "source": [
    "import torch\n",
    "from torch.nn import functional as F\n"
   ]
  },
  {
   "cell_type": "code",
   "execution_count": 11,
   "metadata": {},
   "outputs": [
    {
     "data": {
      "text/plain": [
       "tensor([[1., -inf, -inf,  ..., -inf, -inf, -inf],\n",
       "        [1., 1., -inf,  ..., -inf, -inf, -inf],\n",
       "        [1., 1., 1.,  ..., -inf, -inf, -inf],\n",
       "        ...,\n",
       "        [1., 1., 1.,  ..., 1., -inf, -inf],\n",
       "        [1., 1., 1.,  ..., 1., 1., -inf],\n",
       "        [1., 1., 1.,  ..., 1., 1., 1.]])"
      ]
     },
     "execution_count": 11,
     "metadata": {},
     "output_type": "execute_result"
    }
   ],
   "source": [
    "a = torch.tril(torch.ones((32, 32)))\n",
    "a1 = a.masked_fill(a[:32, :32] == 0, float(\"-inf\"))\n",
    "a2 = a.masked_fill(a == 0, float(\"-inf\"))\n",
    "torch.allclose(a1, a2)\n",
    "a1"
   ]
  },
  {
   "cell_type": "code",
   "execution_count": 14,
   "metadata": {},
   "outputs": [
    {
     "data": {
      "text/plain": [
       "tensor([[1.0000, 0.0000, 0.0000,  ..., 0.0000, 0.0000, 0.0000],\n",
       "        [0.5000, 0.5000, 0.0000,  ..., 0.0000, 0.0000, 0.0000],\n",
       "        [0.3333, 0.3333, 0.3333,  ..., 0.0000, 0.0000, 0.0000],\n",
       "        ...,\n",
       "        [0.0333, 0.0333, 0.0333,  ..., 0.0333, 0.0000, 0.0000],\n",
       "        [0.0323, 0.0323, 0.0323,  ..., 0.0323, 0.0323, 0.0000],\n",
       "        [0.0312, 0.0312, 0.0312,  ..., 0.0312, 0.0312, 0.0312]])"
      ]
     },
     "execution_count": 14,
     "metadata": {},
     "output_type": "execute_result"
    }
   ],
   "source": [
    "F.softmax(a1, dim=-1)"
   ]
  },
  {
   "cell_type": "code",
   "execution_count": 4,
   "metadata": {},
   "outputs": [
    {
     "data": {
      "text/plain": [
       "tensor([[[1.6522, 1.4885, 1.6311, 1.9315, 0.8982],\n",
       "         [1.9785, 2.0999, 1.8307, 2.4717, 1.5845],\n",
       "         [1.3366, 1.4140, 1.2336, 1.3855, 0.7809],\n",
       "         [2.1219, 2.3926, 2.1933, 2.5771, 1.8029],\n",
       "         [2.3968, 2.8066, 2.4610, 3.1390, 1.9806]],\n",
       "\n",
       "        [[1.2674, 1.2783, 2.0042, 2.2028, 2.6456],\n",
       "         [0.9080, 0.6116, 0.9472, 1.3793, 1.4773],\n",
       "         [1.0587, 1.0621, 1.4441, 1.1501, 0.8855],\n",
       "         [1.0140, 1.0828, 1.6955, 1.7839, 2.2168],\n",
       "         [1.2136, 1.0901, 1.5403, 1.3834, 1.0753]],\n",
       "\n",
       "        [[2.0575, 1.4597, 1.2162, 2.4544, 2.1775],\n",
       "         [1.7655, 1.6079, 0.7264, 1.8083, 1.5492],\n",
       "         [1.5115, 1.2542, 1.1582, 1.8516, 1.7144],\n",
       "         [1.5771, 1.0033, 1.6682, 2.1356, 2.1238],\n",
       "         [1.6292, 1.0175, 1.4531, 2.2152, 2.0442]],\n",
       "\n",
       "        [[3.3794, 2.6350, 2.9312, 1.6691, 2.6874],\n",
       "         [1.8493, 1.3707, 1.4402, 0.6819, 1.6733],\n",
       "         [2.2960, 1.6580, 1.9057, 1.0005, 2.0123],\n",
       "         [3.0041, 2.4626, 2.8271, 1.4515, 2.6548],\n",
       "         [2.5094, 2.3403, 2.2277, 1.2466, 1.9536]]])"
      ]
     },
     "execution_count": 4,
     "metadata": {},
     "output_type": "execute_result"
    }
   ],
   "source": [
    "q = torch.rand((4, 5, 6))\n",
    "k = torch.rand((4, 5, 6))\n",
    "\n",
    "wei = q @ k.transpose(-2, -1)\n",
    "wei"
   ]
  },
  {
   "cell_type": "code",
   "execution_count": null,
   "metadata": {},
   "outputs": [],
   "source": []
  }
 ],
 "metadata": {
  "kernelspec": {
   "display_name": "Python 3",
   "language": "python",
   "name": "python3"
  },
  "language_info": {
   "codemirror_mode": {
    "name": "ipython",
    "version": 3
   },
   "file_extension": ".py",
   "mimetype": "text/x-python",
   "name": "python",
   "nbconvert_exporter": "python",
   "pygments_lexer": "ipython3",
   "version": "3.11.7"
  }
 },
 "nbformat": 4,
 "nbformat_minor": 2
}
